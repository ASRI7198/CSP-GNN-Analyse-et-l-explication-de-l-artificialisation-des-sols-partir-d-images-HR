{
 "cells": [
  {
   "cell_type": "code",
   "execution_count": 1,
   "id": "1e5f4040",
   "metadata": {},
   "outputs": [],
   "source": [
    "import sys\n",
    "sys.path.append('/home/rida/GNN')"
   ]
  },
  {
   "cell_type": "code",
   "execution_count": 2,
   "id": "ff56f20f",
   "metadata": {},
   "outputs": [],
   "source": [
    "import Embedding_phase.Generate_data.Preprocess_attributes as pa\n",
    "import Embedding_phase.Generate_data.config as args\n",
    "from Embedding_phase.MGCN.Multi_GCN import MGCN \n",
    "from Search import search_motifs,save_motifs\n",
    "import networkx as nx\n",
    "import torch\n",
    "import pickle"
   ]
  },
  {
   "cell_type": "code",
   "execution_count": 3,
   "id": "5088cb2a",
   "metadata": {},
   "outputs": [],
   "source": [
    "GST = nx.read_graphml(args.GST_DATA_PATH)"
   ]
  },
  {
   "cell_type": "code",
   "execution_count": 4,
   "id": "35659e79",
   "metadata": {},
   "outputs": [],
   "source": [
    "node_feature_map = pa.preprocess_node_features(GST)"
   ]
  },
  {
   "cell_type": "code",
   "execution_count": 5,
   "id": "64a880e9",
   "metadata": {},
   "outputs": [
    {
     "name": "stdout",
     "output_type": "stream",
     "text": [
      "All nodes updated with features.\n"
     ]
    }
   ],
   "source": [
    "GST = pa.Update_attributes(GST, node_feature_map)"
   ]
  },
  {
   "cell_type": "code",
   "execution_count": 6,
   "id": "80e21837",
   "metadata": {},
   "outputs": [],
   "source": [
    "device = torch.device('cuda' if torch.cuda.is_available() else 'cpu')"
   ]
  },
  {
   "cell_type": "code",
   "execution_count": 7,
   "id": "335c5c28",
   "metadata": {},
   "outputs": [],
   "source": [
    "input_dim = 18\n",
    "hidden_dim = 64\n",
    "out_dim = 16"
   ]
  },
  {
   "cell_type": "code",
   "execution_count": 8,
   "id": "710bd354",
   "metadata": {},
   "outputs": [],
   "source": [
    "model = MGCN(input_dim, hidden_dim,out_dim)"
   ]
  },
  {
   "cell_type": "code",
   "execution_count": 42,
   "id": "e2debc70",
   "metadata": {},
   "outputs": [],
   "source": [
    "path = \"/home/rida/GNN/Embedding_phase/models/best_mgcn_order_embedding_2000_pairs_5_k-hop_16.pth\"  \n"
   ]
  },
  {
   "cell_type": "code",
   "execution_count": 43,
   "id": "b5f3b558",
   "metadata": {},
   "outputs": [
    {
     "name": "stderr",
     "output_type": "stream",
     "text": [
      "/tmp/ipykernel_746919/2685531929.py:1: FutureWarning: You are using `torch.load` with `weights_only=False` (the current default value), which uses the default pickle module implicitly. It is possible to construct malicious pickle data which will execute arbitrary code during unpickling (See https://github.com/pytorch/pytorch/blob/main/SECURITY.md#untrusted-models for more details). In a future release, the default value for `weights_only` will be flipped to `True`. This limits the functions that could be executed during unpickling. Arbitrary objects will no longer be allowed to be loaded via this mode unless they are explicitly allowlisted by the user via `torch.serialization.add_safe_globals`. We recommend you start setting `weights_only=True` for any use case where you don't have full control of the loaded file. Please open an issue on GitHub for any issues related to this experimental feature.\n",
      "  model.load_state_dict(torch.load(path, map_location=device))\n"
     ]
    },
    {
     "data": {
      "text/plain": [
       "<All keys matched successfully>"
      ]
     },
     "execution_count": 43,
     "metadata": {},
     "output_type": "execute_result"
    }
   ],
   "source": [
    "model.load_state_dict(torch.load(path, map_location=device))  "
   ]
  },
  {
   "cell_type": "code",
   "execution_count": 44,
   "id": "3d0e5de1",
   "metadata": {},
   "outputs": [
    {
     "data": {
      "text/plain": [
       "MGCN(\n",
       "  (pre_mp): Sequential(\n",
       "    (0): Linear(in_features=18, out_features=64, bias=True)\n",
       "    (1): BatchNorm1d(64, eps=1e-05, momentum=0.1, affine=True, track_running_stats=True)\n",
       "    (2): ReLU()\n",
       "  )\n",
       "  (batch_norm): BatchNorm1d(16, eps=1e-05, momentum=0.1, affine=True, track_running_stats=True)\n",
       "  (layers): ModuleList(\n",
       "    (0-7): 8 x MGCNLayer(\n",
       "      (convs): ModuleList(\n",
       "        (0-4): 5 x GCNConv(64, 64)\n",
       "      )\n",
       "      (skip): Linear(in_features=64, out_features=64, bias=True)\n",
       "      (norm): BatchNorm1d(64, eps=1e-05, momentum=0.1, affine=True, track_running_stats=True)\n",
       "      (act): ReLU()\n",
       "    )\n",
       "  )\n",
       "  (post_mp): Sequential(\n",
       "    (0): Linear(in_features=64, out_features=64, bias=True)\n",
       "    (1): BatchNorm1d(64, eps=1e-05, momentum=0.1, affine=True, track_running_stats=True)\n",
       "    (2): ReLU()\n",
       "    (3): Dropout(p=0.3, inplace=False)\n",
       "    (4): Linear(in_features=64, out_features=32, bias=True)\n",
       "    (5): BatchNorm1d(32, eps=1e-05, momentum=0.1, affine=True, track_running_stats=True)\n",
       "    (6): ReLU()\n",
       "    (7): Dropout(p=0.3, inplace=False)\n",
       "    (8): Linear(in_features=32, out_features=16, bias=True)\n",
       "  )\n",
       ")"
      ]
     },
     "execution_count": 44,
     "metadata": {},
     "output_type": "execute_result"
    }
   ],
   "source": [
    "model.eval()"
   ]
  },
  {
   "cell_type": "code",
   "execution_count": null,
   "id": "0dd40a1e",
   "metadata": {},
   "outputs": [],
   "source": [
    "loaded_motifs = search_motifs(GST, model, node_feature_map, k_hop=12, num_pairs=500, s=2)\n"
   ]
  },
  {
   "cell_type": "code",
   "execution_count": 17,
   "id": "ed56497a",
   "metadata": {},
   "outputs": [
    {
     "data": {
      "text/plain": [
       "[(<networkx.classes.multigraph.MultiGraph at 0x7141f1543550>,\n",
       "  2.8478501334916473e-08),\n",
       " (<networkx.classes.multigraph.MultiGraph at 0x7141f39eb3a0>,\n",
       "  1.2426070838955638e-08),\n",
       " (<networkx.classes.multigraph.MultiGraph at 0x7141f39b35e0>,\n",
       "  3.449608243499824e-08),\n",
       " (<networkx.classes.multigraph.MultiGraph at 0x7141f0f197b0>,\n",
       "  1.2400881210794523e-08),\n",
       " (<networkx.classes.multigraph.MultiGraph at 0x7141f0873b20>,\n",
       "  7.493709652806047e-09),\n",
       " (<networkx.classes.multigraph.MultiGraph at 0x7141f08723b0>,\n",
       "  9.009164969597805e-09),\n",
       " (<networkx.classes.multigraph.MultiGraph at 0x7141f0873a90>,\n",
       "  1.7977402677615828e-08),\n",
       " (<networkx.classes.multigraph.MultiGraph at 0x7141f0873df0>,\n",
       "  1.5299509215083162e-08),\n",
       " (<networkx.classes.multigraph.MultiGraph at 0x7141f0871a20>,\n",
       "  1.827814166688313e-08),\n",
       " (<networkx.classes.multigraph.MultiGraph at 0x7141f0871a80>,\n",
       "  1.8179741800850024e-07),\n",
       " (<networkx.classes.multigraph.MultiGraph at 0x7141f08710c0>,\n",
       "  9.885150475952287e-09),\n",
       " (<networkx.classes.multigraph.MultiGraph at 0x7141f0871c90>,\n",
       "  1.2901710810808709e-09)]"
      ]
     },
     "execution_count": 17,
     "metadata": {},
     "output_type": "execute_result"
    }
   ],
   "source": [
    "loaded_motifs"
   ]
  },
  {
   "cell_type": "code",
   "execution_count": 18,
   "id": "f36aee37",
   "metadata": {},
   "outputs": [
    {
     "data": {
      "text/plain": [
       "list"
      ]
     },
     "execution_count": 18,
     "metadata": {},
     "output_type": "execute_result"
    }
   ],
   "source": [
    "type(loaded_motifs)"
   ]
  },
  {
   "cell_type": "code",
   "execution_count": 19,
   "id": "cebb82b2",
   "metadata": {},
   "outputs": [
    {
     "data": {
      "text/plain": [
       "tuple"
      ]
     },
     "execution_count": 19,
     "metadata": {},
     "output_type": "execute_result"
    }
   ],
   "source": [
    "type(loaded_motifs[0])"
   ]
  },
  {
   "cell_type": "code",
   "execution_count": 20,
   "id": "d6a3d546",
   "metadata": {},
   "outputs": [],
   "source": [
    "terme_classe = { 0 :\"Zones Urbanisees\" ,\n",
    "                 1 : \"Zones de loisirs\",\n",
    "                 2 : \"Zones agricoles\",\n",
    "                 3 : \"Réseaux routier et ferroviaire et espaces associes\",\n",
    "                 4 : \"Forets\",\n",
    "                 5 : \"Espaces ouverts, sans ou avec peu de vegetation\" ,\n",
    "                 6 : \"Eaux continentales\",\n",
    "                 7 : \"Chantiers\" }"
   ]
  },
  {
   "cell_type": "code",
   "execution_count": 21,
   "id": "e5dcd2d3",
   "metadata": {},
   "outputs": [],
   "source": [
    "RELATION_MAP = {\n",
    "     0:\"Adjacence\",\n",
    "     1:\"Dérivation\",\n",
    "     2:\"Continuation\",\n",
    "     3:\"Scission\",\n",
    "     4:\"Fusion\"\n",
    "}"
   ]
  },
  {
   "cell_type": "code",
   "execution_count": 22,
   "id": "54dbf362",
   "metadata": {},
   "outputs": [
    {
     "data": {
      "text/plain": [
       "12"
      ]
     },
     "execution_count": 22,
     "metadata": {},
     "output_type": "execute_result"
    }
   ],
   "source": [
    "\n",
    "len(loaded_motifs)"
   ]
  },
  {
   "cell_type": "code",
   "execution_count": 23,
   "id": "70085309",
   "metadata": {},
   "outputs": [],
   "source": [
    "path = \"/home/rida/GNN/Search_phase/Motifs_graphe/500_pairs_12_k-hop_32_N=4500_s=2.json\""
   ]
  },
  {
   "cell_type": "code",
   "execution_count": 24,
   "id": "c155a167",
   "metadata": {},
   "outputs": [
    {
     "name": "stdout",
     "output_type": "stream",
     "text": [
      "✅ Fichier /home/rida/GNN/Search_phase/Motifs_graphe/500_pairs_12_k-hop_32_N=4500_s=2.json généré avec succès.\n"
     ]
    }
   ],
   "source": [
    "import json\n",
    "\n",
    "resultats = []\n",
    "\n",
    "for i, (G, score) in enumerate(loaded_motifs, start=1):\n",
    "    relations = []\n",
    "    for u, v, d in G.edges(data=True):\n",
    "        edge_score = d.get('edge_score')\n",
    "        edge_type  = RELATION_MAP[int(d.get('edge_type'))]\n",
    "        date_u = G.nodes[u].get('year')\n",
    "        date_v = G.nodes[v].get('year')\n",
    "        DN_u = G.nodes[u].get('DN')\n",
    "        DN_v = G.nodes[v].get('DN')\n",
    "        relations.append(f\"{DN_u}/{date_u} --- {edge_type} ---> {DN_v}/{date_v} avec score = {edge_score}\")\n",
    "\n",
    "    header = {\n",
    "        \"motif_id\": i,\n",
    "        \"score\":    score,\n",
    "        \"size\":     G.number_of_nodes(),\n",
    "        \"Relation\": relations\n",
    "    }\n",
    "\n",
    "    entries = [header]\n",
    "    for node_id, attrs in G.nodes(data=True):\n",
    "        entry = {\n",
    "            \"Node\":          str(attrs.get('DN')),\n",
    "            \"Date\":          attrs.get('year'),\n",
    "            \"Classe_String\": terme_classe[int(attrs.get('classe'))],\n",
    "            \"Classe_int\":    int(attrs.get('classe')),\n",
    "            \"Aire\":          attrs.get('Aire'),\n",
    "            \"Perimetre\":     attrs.get('Perimeter'),\n",
    "            \"Largeur\":       attrs.get('Largeur'),\n",
    "            \"Hauteur\":       attrs.get('Hauteur'),\n",
    "            \"Rectangularity\":attrs.get('Rectangularity'),\n",
    "            \"Elongation\":    attrs.get('Elongation'),\n",
    "            \"I_Miller\":      attrs.get('I_Miller'),\n",
    "            \"Mean\":          attrs.get('Mean'),\n",
    "            \"std\":           attrs.get('std'),\n",
    "            \"variance\":      attrs.get('variance'),\n",
    "            \"centroid\":      attrs.get('centroid'),\n",
    "            \"Nbr_Voisins\":   attrs.get('Nbr_Voisins'),\n",
    "            \"surface_voisins\": attrs.get('surface_voisins')\n",
    "        }\n",
    "        entries.append(entry)\n",
    "\n",
    "    resultats.append(entries)\n",
    "\n",
    "\n",
    "with open(path, \"w\", encoding=\"utf-8\") as f:\n",
    "    json.dump(resultats, f, ensure_ascii=False, indent=2)\n",
    "\n",
    "print(f\"✅ Fichier {path} généré avec succès.\")\n"
   ]
  },
  {
   "cell_type": "code",
   "execution_count": null,
   "id": "1367cc6c",
   "metadata": {},
   "outputs": [],
   "source": []
  }
 ],
 "metadata": {
  "kernelspec": {
   "display_name": "monenv",
   "language": "python",
   "name": "python3"
  },
  "language_info": {
   "codemirror_mode": {
    "name": "ipython",
    "version": 3
   },
   "file_extension": ".py",
   "mimetype": "text/x-python",
   "name": "python",
   "nbconvert_exporter": "python",
   "pygments_lexer": "ipython3",
   "version": "3.10.18"
  }
 },
 "nbformat": 4,
 "nbformat_minor": 5
}
